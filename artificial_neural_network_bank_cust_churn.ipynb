{
  "nbformat": 4,
  "nbformat_minor": 0,
  "metadata": {
    "colab": {
      "name": "artificial_neural_network_bank_cust_churn.ipynb",
      "provenance": [],
      "collapsed_sections": [],
      "toc_visible": true,
      "include_colab_link": true
    },
    "kernelspec": {
      "name": "python3",
      "display_name": "Python 3"
    }
  },
  "cells": [
    {
      "cell_type": "markdown",
      "metadata": {
        "id": "view-in-github",
        "colab_type": "text"
      },
      "source": [
        "<a href=\"https://colab.research.google.com/github/capitall10n/Bank-Customer-Nueral-Network/blob/main/artificial_neural_network_bank_cust_churn.ipynb\" target=\"_parent\"><img src=\"https://colab.research.google.com/assets/colab-badge.svg\" alt=\"Open In Colab\"/></a>"
      ]
    },
    {
      "cell_type": "markdown",
      "metadata": {
        "id": "lP6JLo1tGNBg"
      },
      "source": [
        "# Artificial Neural Network"
      ]
    },
    {
      "cell_type": "markdown",
      "metadata": {
        "id": "gWZyYmS_UE_L"
      },
      "source": [
        "### Importing the libraries"
      ]
    },
    {
      "cell_type": "code",
      "metadata": {
        "id": "L8ii3s7H7rA4"
      },
      "source": [
        "import numpy as np\n",
        "import pandas as pd\n",
        "import tensorflow as tf"
      ],
      "execution_count": 1,
      "outputs": []
    },
    {
      "cell_type": "code",
      "metadata": {
        "id": "rFkwKCgw76qJ",
        "outputId": "b4cd85da-6601-417f-c0e7-4bd95d838cab",
        "colab": {
          "base_uri": "https://localhost:8080/",
          "height": 35
        }
      },
      "source": [
        "tf.__version__"
      ],
      "execution_count": 2,
      "outputs": [
        {
          "output_type": "execute_result",
          "data": {
            "application/vnd.google.colaboratory.intrinsic+json": {
              "type": "string"
            },
            "text/plain": [
              "'2.3.0'"
            ]
          },
          "metadata": {
            "tags": []
          },
          "execution_count": 2
        }
      ]
    },
    {
      "cell_type": "markdown",
      "metadata": {
        "id": "1E0Q3aoKUCRX"
      },
      "source": [
        "## Part 1 - Data Preprocessing"
      ]
    },
    {
      "cell_type": "markdown",
      "metadata": {
        "id": "cKWAkFVGUU0Z"
      },
      "source": [
        "### Importing the dataset"
      ]
    },
    {
      "cell_type": "code",
      "metadata": {
        "id": "xaOe6IHs8NE0"
      },
      "source": [
        "dataset = pd.read_csv('Churn_Modelling.csv')\n",
        "X = dataset.iloc[:, 3:-1].values\n",
        "y = dataset.iloc[:, -1].values"
      ],
      "execution_count": 3,
      "outputs": []
    },
    {
      "cell_type": "code",
      "metadata": {
        "id": "ki62CVSD8v5y",
        "outputId": "76d6aef2-6169-49f2-85c5-382f229c352a",
        "colab": {
          "base_uri": "https://localhost:8080/"
        }
      },
      "source": [
        "print(X)"
      ],
      "execution_count": 4,
      "outputs": [
        {
          "output_type": "stream",
          "text": [
            "[[619 'France' 'Female' ... 1 1 101348.88]\n",
            " [608 'Spain' 'Female' ... 0 1 112542.58]\n",
            " [502 'France' 'Female' ... 1 0 113931.57]\n",
            " ...\n",
            " [709 'France' 'Female' ... 0 1 42085.58]\n",
            " [772 'Germany' 'Male' ... 1 0 92888.52]\n",
            " [792 'France' 'Female' ... 1 0 38190.78]]\n"
          ],
          "name": "stdout"
        }
      ]
    },
    {
      "cell_type": "code",
      "metadata": {
        "id": "TYtBMVzA8wbE",
        "outputId": "2028100e-e095-4fb5-b4de-06820e315c44",
        "colab": {
          "base_uri": "https://localhost:8080/"
        }
      },
      "source": [
        "print(y)"
      ],
      "execution_count": 5,
      "outputs": [
        {
          "output_type": "stream",
          "text": [
            "[1 0 1 ... 1 1 0]\n"
          ],
          "name": "stdout"
        }
      ]
    },
    {
      "cell_type": "markdown",
      "metadata": {
        "id": "N6bQ0UgSU-NJ"
      },
      "source": [
        "### Encoding categorical data"
      ]
    },
    {
      "cell_type": "markdown",
      "metadata": {
        "id": "le5MJreAbW52"
      },
      "source": [
        "Label Encoding the \"Gender\" column"
      ]
    },
    {
      "cell_type": "code",
      "metadata": {
        "id": "K0HPDLbR8s-k"
      },
      "source": [
        "from sklearn.preprocessing import LabelEncoder\n",
        "le = LabelEncoder()\n",
        "X[:,2] = le.fit_transform(X[:,2])"
      ],
      "execution_count": 6,
      "outputs": []
    },
    {
      "cell_type": "code",
      "metadata": {
        "id": "5DZSdi4P9VOD",
        "outputId": "30a37c31-1b78-4349-9bef-95687a50ddb2",
        "colab": {
          "base_uri": "https://localhost:8080/"
        }
      },
      "source": [
        "print(X)"
      ],
      "execution_count": 7,
      "outputs": [
        {
          "output_type": "stream",
          "text": [
            "[[619 'France' 0 ... 1 1 101348.88]\n",
            " [608 'Spain' 0 ... 0 1 112542.58]\n",
            " [502 'France' 0 ... 1 0 113931.57]\n",
            " ...\n",
            " [709 'France' 0 ... 0 1 42085.58]\n",
            " [772 'Germany' 1 ... 1 0 92888.52]\n",
            " [792 'France' 0 ... 1 0 38190.78]]\n"
          ],
          "name": "stdout"
        }
      ]
    },
    {
      "cell_type": "markdown",
      "metadata": {
        "id": "CUxGZezpbMcb"
      },
      "source": [
        "One Hot Encoding the \"Geography\" column"
      ]
    },
    {
      "cell_type": "code",
      "metadata": {
        "id": "rweM2kLE8tw7"
      },
      "source": [
        "from sklearn.compose import ColumnTransformer\n",
        "from sklearn.preprocessing import OneHotEncoder\n",
        "ct = ColumnTransformer(transformers=[('encoder', OneHotEncoder(), [1])], remainder='passthrough')\n",
        "X = np.array(ct.fit_transform(X))"
      ],
      "execution_count": 8,
      "outputs": []
    },
    {
      "cell_type": "code",
      "metadata": {
        "id": "YFQ3tSpz9kaR",
        "outputId": "cb153b6d-8ae1-40f9-ba71-99ef4e1a1cf6",
        "colab": {
          "base_uri": "https://localhost:8080/"
        }
      },
      "source": [
        "print(X)"
      ],
      "execution_count": 9,
      "outputs": [
        {
          "output_type": "stream",
          "text": [
            "[[1.0 0.0 0.0 ... 1 1 101348.88]\n",
            " [0.0 0.0 1.0 ... 0 1 112542.58]\n",
            " [1.0 0.0 0.0 ... 1 0 113931.57]\n",
            " ...\n",
            " [1.0 0.0 0.0 ... 0 1 42085.58]\n",
            " [0.0 1.0 0.0 ... 1 0 92888.52]\n",
            " [1.0 0.0 0.0 ... 1 0 38190.78]]\n"
          ],
          "name": "stdout"
        }
      ]
    },
    {
      "cell_type": "markdown",
      "metadata": {
        "id": "vHol938cW8zd"
      },
      "source": [
        "### Splitting the dataset into the Training set and Test set"
      ]
    },
    {
      "cell_type": "code",
      "metadata": {
        "id": "J02lt4tf8uYL"
      },
      "source": [
        "from sklearn.model_selection import train_test_split\n",
        "X_train, X_test, y_train, y_test = train_test_split(X, y, test_size = 0.2, random_state = 0)"
      ],
      "execution_count": 10,
      "outputs": []
    },
    {
      "cell_type": "markdown",
      "metadata": {
        "id": "RE_FcHyfV3TQ"
      },
      "source": [
        "### Feature Scaling"
      ]
    },
    {
      "cell_type": "code",
      "metadata": {
        "id": "Lz4uUGtT96ER"
      },
      "source": [
        "from sklearn.preprocessing import StandardScaler\n",
        "sc = StandardScaler()\n",
        "X_train = sc.fit_transform(X_train)\n",
        "X_test = sc.transform(X_test)"
      ],
      "execution_count": 11,
      "outputs": []
    },
    {
      "cell_type": "markdown",
      "metadata": {
        "id": "-zfEzkRVXIwF"
      },
      "source": [
        "## Part 2 - Building the ANN"
      ]
    },
    {
      "cell_type": "markdown",
      "metadata": {
        "id": "KvdeScabXtlB"
      },
      "source": [
        "### Initializing the ANN"
      ]
    },
    {
      "cell_type": "code",
      "metadata": {
        "id": "KxZruD2A-bSY"
      },
      "source": [
        "ann = tf.keras.models.Sequential()"
      ],
      "execution_count": 12,
      "outputs": []
    },
    {
      "cell_type": "markdown",
      "metadata": {
        "id": "rP6urV6SX7kS"
      },
      "source": [
        "### Adding the input layer and the first hidden layer"
      ]
    },
    {
      "cell_type": "code",
      "metadata": {
        "id": "GSay-0Lk-cOq"
      },
      "source": [
        "ann.add(tf.keras.layers.Dense(units=6,activation='relu'))"
      ],
      "execution_count": 13,
      "outputs": []
    },
    {
      "cell_type": "markdown",
      "metadata": {
        "id": "BELWAc_8YJze"
      },
      "source": [
        "### Adding the second hidden layer"
      ]
    },
    {
      "cell_type": "code",
      "metadata": {
        "id": "d6ZR7r9B-c1p"
      },
      "source": [
        "ann.add(tf.keras.layers.Dense(units=6,activation='relu'))"
      ],
      "execution_count": 14,
      "outputs": []
    },
    {
      "cell_type": "markdown",
      "metadata": {
        "id": "OyNEe6RXYcU4"
      },
      "source": [
        "### Adding the output layer"
      ]
    },
    {
      "cell_type": "code",
      "metadata": {
        "id": "xtn3mMRs-dYq"
      },
      "source": [
        "ann.add(tf.keras.layers.Dense(units=1,activation='sigmoid'))"
      ],
      "execution_count": 15,
      "outputs": []
    },
    {
      "cell_type": "markdown",
      "metadata": {
        "id": "JT4u2S1_Y4WG"
      },
      "source": [
        "## Part 3 - Training the ANN"
      ]
    },
    {
      "cell_type": "markdown",
      "metadata": {
        "id": "8GWlJChhY_ZI"
      },
      "source": [
        "### Compiling the ANN"
      ]
    },
    {
      "cell_type": "code",
      "metadata": {
        "id": "o39oYRrPAU3x"
      },
      "source": [
        "ann.compile(optimizer = 'adam', loss = 'binary_crossentropy', metrics= ['accuracy'])"
      ],
      "execution_count": 16,
      "outputs": []
    },
    {
      "cell_type": "markdown",
      "metadata": {
        "id": "0QR_G5u7ZLSM"
      },
      "source": [
        "### Training the ANN on the Training set"
      ]
    },
    {
      "cell_type": "code",
      "metadata": {
        "id": "EYq9p-rEAVyp",
        "outputId": "9de4a7b3-6cb8-4e65-f2a4-b69183474341",
        "colab": {
          "base_uri": "https://localhost:8080/"
        }
      },
      "source": [
        "ann.fit(X_train, y_train, batch_size = 32, epochs = 100)"
      ],
      "execution_count": 17,
      "outputs": [
        {
          "output_type": "stream",
          "text": [
            "Epoch 1/100\n",
            "250/250 [==============================] - 0s 840us/step - loss: 0.6106 - accuracy: 0.7094\n",
            "Epoch 2/100\n",
            "250/250 [==============================] - 0s 892us/step - loss: 0.4923 - accuracy: 0.7960\n",
            "Epoch 3/100\n",
            "250/250 [==============================] - 0s 848us/step - loss: 0.4596 - accuracy: 0.7977\n",
            "Epoch 4/100\n",
            "250/250 [==============================] - 0s 859us/step - loss: 0.4416 - accuracy: 0.8049\n",
            "Epoch 5/100\n",
            "250/250 [==============================] - 0s 862us/step - loss: 0.4319 - accuracy: 0.8101\n",
            "Epoch 6/100\n",
            "250/250 [==============================] - 0s 855us/step - loss: 0.4260 - accuracy: 0.8119\n",
            "Epoch 7/100\n",
            "250/250 [==============================] - 0s 914us/step - loss: 0.4227 - accuracy: 0.8133\n",
            "Epoch 8/100\n",
            "250/250 [==============================] - 0s 840us/step - loss: 0.4193 - accuracy: 0.8155\n",
            "Epoch 9/100\n",
            "250/250 [==============================] - 0s 825us/step - loss: 0.4163 - accuracy: 0.8196\n",
            "Epoch 10/100\n",
            "250/250 [==============================] - 0s 852us/step - loss: 0.4131 - accuracy: 0.8225\n",
            "Epoch 11/100\n",
            "250/250 [==============================] - 0s 859us/step - loss: 0.4091 - accuracy: 0.8273\n",
            "Epoch 12/100\n",
            "250/250 [==============================] - 0s 808us/step - loss: 0.4060 - accuracy: 0.8271\n",
            "Epoch 13/100\n",
            "250/250 [==============================] - 0s 836us/step - loss: 0.4016 - accuracy: 0.8278\n",
            "Epoch 14/100\n",
            "250/250 [==============================] - 0s 873us/step - loss: 0.3945 - accuracy: 0.8303\n",
            "Epoch 15/100\n",
            "250/250 [==============================] - 0s 832us/step - loss: 0.3841 - accuracy: 0.8371\n",
            "Epoch 16/100\n",
            "250/250 [==============================] - 0s 834us/step - loss: 0.3732 - accuracy: 0.8451\n",
            "Epoch 17/100\n",
            "250/250 [==============================] - 0s 938us/step - loss: 0.3647 - accuracy: 0.8515\n",
            "Epoch 18/100\n",
            "250/250 [==============================] - 0s 844us/step - loss: 0.3593 - accuracy: 0.8512\n",
            "Epoch 19/100\n",
            "250/250 [==============================] - 0s 875us/step - loss: 0.3563 - accuracy: 0.8543\n",
            "Epoch 20/100\n",
            "250/250 [==============================] - 0s 900us/step - loss: 0.3535 - accuracy: 0.8545\n",
            "Epoch 21/100\n",
            "250/250 [==============================] - 0s 982us/step - loss: 0.3526 - accuracy: 0.8550\n",
            "Epoch 22/100\n",
            "250/250 [==============================] - 0s 967us/step - loss: 0.3512 - accuracy: 0.8549\n",
            "Epoch 23/100\n",
            "250/250 [==============================] - 0s 879us/step - loss: 0.3501 - accuracy: 0.8553\n",
            "Epoch 24/100\n",
            "250/250 [==============================] - 0s 901us/step - loss: 0.3490 - accuracy: 0.8558\n",
            "Epoch 25/100\n",
            "250/250 [==============================] - 0s 814us/step - loss: 0.3489 - accuracy: 0.8551\n",
            "Epoch 26/100\n",
            "250/250 [==============================] - 0s 832us/step - loss: 0.3475 - accuracy: 0.8554\n",
            "Epoch 27/100\n",
            "250/250 [==============================] - 0s 843us/step - loss: 0.3469 - accuracy: 0.8553\n",
            "Epoch 28/100\n",
            "250/250 [==============================] - 0s 886us/step - loss: 0.3467 - accuracy: 0.8564\n",
            "Epoch 29/100\n",
            "250/250 [==============================] - 0s 863us/step - loss: 0.3459 - accuracy: 0.8569\n",
            "Epoch 30/100\n",
            "250/250 [==============================] - 0s 866us/step - loss: 0.3457 - accuracy: 0.8576\n",
            "Epoch 31/100\n",
            "250/250 [==============================] - 0s 833us/step - loss: 0.3450 - accuracy: 0.8561\n",
            "Epoch 32/100\n",
            "250/250 [==============================] - 0s 913us/step - loss: 0.3445 - accuracy: 0.8565\n",
            "Epoch 33/100\n",
            "250/250 [==============================] - 0s 972us/step - loss: 0.3443 - accuracy: 0.8581\n",
            "Epoch 34/100\n",
            "250/250 [==============================] - 0s 854us/step - loss: 0.3437 - accuracy: 0.8579\n",
            "Epoch 35/100\n",
            "250/250 [==============================] - 0s 842us/step - loss: 0.3437 - accuracy: 0.8580\n",
            "Epoch 36/100\n",
            "250/250 [==============================] - 0s 855us/step - loss: 0.3432 - accuracy: 0.8595\n",
            "Epoch 37/100\n",
            "250/250 [==============================] - 0s 875us/step - loss: 0.3429 - accuracy: 0.8576\n",
            "Epoch 38/100\n",
            "250/250 [==============================] - 0s 841us/step - loss: 0.3430 - accuracy: 0.8580\n",
            "Epoch 39/100\n",
            "250/250 [==============================] - 0s 840us/step - loss: 0.3425 - accuracy: 0.8583\n",
            "Epoch 40/100\n",
            "250/250 [==============================] - 0s 867us/step - loss: 0.3427 - accuracy: 0.8586\n",
            "Epoch 41/100\n",
            "250/250 [==============================] - 0s 932us/step - loss: 0.3422 - accuracy: 0.8595\n",
            "Epoch 42/100\n",
            "250/250 [==============================] - 0s 896us/step - loss: 0.3419 - accuracy: 0.8590\n",
            "Epoch 43/100\n",
            "250/250 [==============================] - 0s 871us/step - loss: 0.3416 - accuracy: 0.8589\n",
            "Epoch 44/100\n",
            "250/250 [==============================] - 0s 922us/step - loss: 0.3416 - accuracy: 0.8599\n",
            "Epoch 45/100\n",
            "250/250 [==============================] - 0s 872us/step - loss: 0.3413 - accuracy: 0.8584\n",
            "Epoch 46/100\n",
            "250/250 [==============================] - 0s 896us/step - loss: 0.3413 - accuracy: 0.8587\n",
            "Epoch 47/100\n",
            "250/250 [==============================] - 0s 867us/step - loss: 0.3406 - accuracy: 0.8591\n",
            "Epoch 48/100\n",
            "250/250 [==============================] - 0s 891us/step - loss: 0.3406 - accuracy: 0.8596\n",
            "Epoch 49/100\n",
            "250/250 [==============================] - 0s 874us/step - loss: 0.3406 - accuracy: 0.8595\n",
            "Epoch 50/100\n",
            "250/250 [==============================] - 0s 895us/step - loss: 0.3405 - accuracy: 0.8590\n",
            "Epoch 51/100\n",
            "250/250 [==============================] - 0s 864us/step - loss: 0.3401 - accuracy: 0.8609\n",
            "Epoch 52/100\n",
            "250/250 [==============================] - 0s 869us/step - loss: 0.3400 - accuracy: 0.8611\n",
            "Epoch 53/100\n",
            "250/250 [==============================] - 0s 842us/step - loss: 0.3392 - accuracy: 0.8594\n",
            "Epoch 54/100\n",
            "250/250 [==============================] - 0s 811us/step - loss: 0.3396 - accuracy: 0.8589\n",
            "Epoch 55/100\n",
            "250/250 [==============================] - 0s 943us/step - loss: 0.3395 - accuracy: 0.8585\n",
            "Epoch 56/100\n",
            "250/250 [==============================] - 0s 868us/step - loss: 0.3394 - accuracy: 0.8606\n",
            "Epoch 57/100\n",
            "250/250 [==============================] - 0s 843us/step - loss: 0.3392 - accuracy: 0.8631\n",
            "Epoch 58/100\n",
            "250/250 [==============================] - 0s 878us/step - loss: 0.3392 - accuracy: 0.8606\n",
            "Epoch 59/100\n",
            "250/250 [==============================] - 0s 967us/step - loss: 0.3389 - accuracy: 0.8611\n",
            "Epoch 60/100\n",
            "250/250 [==============================] - 0s 985us/step - loss: 0.3389 - accuracy: 0.8605\n",
            "Epoch 61/100\n",
            "250/250 [==============================] - 0s 945us/step - loss: 0.3388 - accuracy: 0.8580\n",
            "Epoch 62/100\n",
            "250/250 [==============================] - 0s 936us/step - loss: 0.3387 - accuracy: 0.8604\n",
            "Epoch 63/100\n",
            "250/250 [==============================] - 0s 853us/step - loss: 0.3385 - accuracy: 0.8593\n",
            "Epoch 64/100\n",
            "250/250 [==============================] - 0s 1ms/step - loss: 0.3376 - accuracy: 0.8606\n",
            "Epoch 65/100\n",
            "250/250 [==============================] - 0s 2ms/step - loss: 0.3379 - accuracy: 0.8593\n",
            "Epoch 66/100\n",
            "250/250 [==============================] - 0s 1ms/step - loss: 0.3379 - accuracy: 0.8615\n",
            "Epoch 67/100\n",
            "250/250 [==============================] - 0s 1ms/step - loss: 0.3379 - accuracy: 0.8615\n",
            "Epoch 68/100\n",
            "250/250 [==============================] - 0s 2ms/step - loss: 0.3376 - accuracy: 0.8620\n",
            "Epoch 69/100\n",
            "250/250 [==============================] - 0s 2ms/step - loss: 0.3374 - accuracy: 0.8609\n",
            "Epoch 70/100\n",
            "250/250 [==============================] - 0s 1ms/step - loss: 0.3372 - accuracy: 0.8618\n",
            "Epoch 71/100\n",
            "250/250 [==============================] - 0s 2ms/step - loss: 0.3373 - accuracy: 0.8620\n",
            "Epoch 72/100\n",
            "250/250 [==============================] - 0s 1ms/step - loss: 0.3373 - accuracy: 0.8634\n",
            "Epoch 73/100\n",
            "250/250 [==============================] - 0s 1ms/step - loss: 0.3368 - accuracy: 0.8604\n",
            "Epoch 74/100\n",
            "250/250 [==============================] - 0s 2ms/step - loss: 0.3366 - accuracy: 0.8626\n",
            "Epoch 75/100\n",
            "250/250 [==============================] - 0s 1ms/step - loss: 0.3367 - accuracy: 0.8614\n",
            "Epoch 76/100\n",
            "250/250 [==============================] - 0s 1ms/step - loss: 0.3365 - accuracy: 0.8616\n",
            "Epoch 77/100\n",
            "250/250 [==============================] - 0s 2ms/step - loss: 0.3365 - accuracy: 0.8626\n",
            "Epoch 78/100\n",
            "250/250 [==============================] - 0s 2ms/step - loss: 0.3357 - accuracy: 0.8622\n",
            "Epoch 79/100\n",
            "250/250 [==============================] - 0s 1ms/step - loss: 0.3364 - accuracy: 0.8615\n",
            "Epoch 80/100\n",
            "250/250 [==============================] - 0s 2ms/step - loss: 0.3363 - accuracy: 0.8614\n",
            "Epoch 81/100\n",
            "250/250 [==============================] - 0s 2ms/step - loss: 0.3357 - accuracy: 0.8615\n",
            "Epoch 82/100\n",
            "250/250 [==============================] - 0s 1ms/step - loss: 0.3359 - accuracy: 0.8619\n",
            "Epoch 83/100\n",
            "250/250 [==============================] - 0s 1ms/step - loss: 0.3357 - accuracy: 0.8629\n",
            "Epoch 84/100\n",
            "250/250 [==============================] - 0s 1ms/step - loss: 0.3360 - accuracy: 0.8624\n",
            "Epoch 85/100\n",
            "250/250 [==============================] - 0s 2ms/step - loss: 0.3356 - accuracy: 0.8630\n",
            "Epoch 86/100\n",
            "250/250 [==============================] - 0s 1ms/step - loss: 0.3353 - accuracy: 0.8637\n",
            "Epoch 87/100\n",
            "250/250 [==============================] - 0s 1ms/step - loss: 0.3355 - accuracy: 0.8622\n",
            "Epoch 88/100\n",
            "250/250 [==============================] - 0s 1ms/step - loss: 0.3353 - accuracy: 0.8629\n",
            "Epoch 89/100\n",
            "250/250 [==============================] - 0s 845us/step - loss: 0.3355 - accuracy: 0.8631\n",
            "Epoch 90/100\n",
            "250/250 [==============================] - 0s 886us/step - loss: 0.3351 - accuracy: 0.8612\n",
            "Epoch 91/100\n",
            "250/250 [==============================] - 0s 890us/step - loss: 0.3349 - accuracy: 0.8625\n",
            "Epoch 92/100\n",
            "250/250 [==============================] - 0s 893us/step - loss: 0.3349 - accuracy: 0.8644\n",
            "Epoch 93/100\n",
            "250/250 [==============================] - 0s 913us/step - loss: 0.3346 - accuracy: 0.8629\n",
            "Epoch 94/100\n",
            "250/250 [==============================] - 0s 847us/step - loss: 0.3349 - accuracy: 0.8634\n",
            "Epoch 95/100\n",
            "250/250 [==============================] - 0s 842us/step - loss: 0.3348 - accuracy: 0.8650\n",
            "Epoch 96/100\n",
            "250/250 [==============================] - 0s 887us/step - loss: 0.3346 - accuracy: 0.8643\n",
            "Epoch 97/100\n",
            "250/250 [==============================] - 0s 860us/step - loss: 0.3345 - accuracy: 0.8633\n",
            "Epoch 98/100\n",
            "250/250 [==============================] - 0s 936us/step - loss: 0.3342 - accuracy: 0.8631\n",
            "Epoch 99/100\n",
            "250/250 [==============================] - 0s 930us/step - loss: 0.3343 - accuracy: 0.8635\n",
            "Epoch 100/100\n",
            "250/250 [==============================] - 0s 885us/step - loss: 0.3343 - accuracy: 0.8639\n"
          ],
          "name": "stdout"
        },
        {
          "output_type": "execute_result",
          "data": {
            "text/plain": [
              "<tensorflow.python.keras.callbacks.History at 0x7f646933aef0>"
            ]
          },
          "metadata": {
            "tags": []
          },
          "execution_count": 17
        }
      ]
    },
    {
      "cell_type": "markdown",
      "metadata": {
        "id": "tJj5k2MxZga3"
      },
      "source": [
        "## Part 4 - Making the predictions and evaluating the model"
      ]
    },
    {
      "cell_type": "markdown",
      "metadata": {
        "id": "84QFoqGYeXHL"
      },
      "source": [
        "### Predicting the result of a single observation"
      ]
    },
    {
      "cell_type": "markdown",
      "metadata": {
        "id": "CGRo3eacgDdC"
      },
      "source": [
        "**Homework**\n",
        "\n",
        "Use our ANN model to predict if the customer with the following informations will leave the bank: \n",
        "\n",
        "Geography: France\n",
        "\n",
        "Credit Score: 600\n",
        "\n",
        "Gender: Male\n",
        "\n",
        "Age: 40 years old\n",
        "\n",
        "Tenure: 3 years\n",
        "\n",
        "Balance: \\$ 60000\n",
        "\n",
        "Number of Products: 2\n",
        "\n",
        "Does this customer have a credit card? Yes\n",
        "\n",
        "Is this customer an Active Member: Yes\n",
        "\n",
        "Estimated Salary: \\$ 50000\n",
        "\n",
        "So, should we say goodbye to that customer?"
      ]
    },
    {
      "cell_type": "markdown",
      "metadata": {
        "id": "ZhU1LTgPg-kH"
      },
      "source": [
        "**Solution**"
      ]
    },
    {
      "cell_type": "code",
      "metadata": {
        "id": "SctOOZYeCB5w",
        "outputId": "7d202e0c-27b3-4bde-8028-1285eb7dd0d4",
        "colab": {
          "base_uri": "https://localhost:8080/"
        }
      },
      "source": [
        "print(ann.predict(sc.transform([[1, 0, 0, 600, 1, 40, 3, 60000, 2, 1, 1, 50000]])) > 0.5)"
      ],
      "execution_count": 20,
      "outputs": [
        {
          "output_type": "stream",
          "text": [
            "[[False]]\n"
          ],
          "name": "stdout"
        }
      ]
    },
    {
      "cell_type": "markdown",
      "metadata": {
        "id": "wGjx94g2n7OV"
      },
      "source": [
        "Therefore, our ANN model predicts that this customer stays in the bank!\n",
        "\n",
        "**Important note 1:** Notice that the values of the features were all input in a double pair of square brackets. That's because the \"predict\" method always expects a 2D array as the format of its inputs. And putting our values into a double pair of square brackets makes the input exactly a 2D array.\n",
        "\n",
        "**Important note 2:** Notice also that the \"France\" country was not input as a string in the last column but as \"1, 0, 0\" in the first three columns. That's because of course the predict method expects the one-hot-encoded values of the state, and as we see in the first row of the matrix of features X, \"France\" was encoded as \"1, 0, 0\". And be careful to include these values in the first three columns, because the dummy variables are always created in the first columns."
      ]
    },
    {
      "cell_type": "markdown",
      "metadata": {
        "id": "u7yx47jPZt11"
      },
      "source": [
        "### Predicting the Test set results"
      ]
    },
    {
      "cell_type": "code",
      "metadata": {
        "id": "JeNkx-iEDRGH",
        "outputId": "afebc0a0-fd13-4baf-d181-a8011c6194bf",
        "colab": {
          "base_uri": "https://localhost:8080/"
        }
      },
      "source": [
        "y_pred = ann.predict(X_test)\n",
        "y_pred = (y_pred > 0.5)\n",
        "print(np.concatenate((y_pred.reshape(len(y_pred),1), y_test.reshape(len(y_test),1)),1))"
      ],
      "execution_count": 21,
      "outputs": [
        {
          "output_type": "stream",
          "text": [
            "[[0 0]\n",
            " [0 1]\n",
            " [0 0]\n",
            " ...\n",
            " [0 0]\n",
            " [0 0]\n",
            " [0 0]]\n"
          ],
          "name": "stdout"
        }
      ]
    },
    {
      "cell_type": "markdown",
      "metadata": {
        "id": "o0oyfLWoaEGw"
      },
      "source": [
        "### Making the Confusion Matrix"
      ]
    },
    {
      "cell_type": "code",
      "metadata": {
        "id": "Ani2YW7oDR5a",
        "outputId": "5c0604de-c1e4-4dc4-b76e-4bfc3fbe3c24",
        "colab": {
          "base_uri": "https://localhost:8080/"
        }
      },
      "source": [
        "from sklearn.metrics import confusion_matrix, accuracy_score\n",
        "cm = confusion_matrix(y_test, y_pred)\n",
        "print(cm)\n",
        "accuracy_score(y_test, y_pred)"
      ],
      "execution_count": 22,
      "outputs": [
        {
          "output_type": "stream",
          "text": [
            "[[1518   77]\n",
            " [ 197  208]]\n"
          ],
          "name": "stdout"
        },
        {
          "output_type": "execute_result",
          "data": {
            "text/plain": [
              "0.863"
            ]
          },
          "metadata": {
            "tags": []
          },
          "execution_count": 22
        }
      ]
    },
    {
      "cell_type": "code",
      "metadata": {
        "id": "MQqjZSwgDzxQ"
      },
      "source": [
        ""
      ],
      "execution_count": null,
      "outputs": []
    }
  ]
}